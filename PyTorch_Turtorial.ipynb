{
  "nbformat": 4,
  "nbformat_minor": 0,
  "metadata": {
    "kernelspec": {
      "display_name": "Python 3",
      "language": "python",
      "name": "python3"
    },
    "language_info": {
      "codemirror_mode": {
        "name": "ipython",
        "version": 3
      },
      "file_extension": ".py",
      "mimetype": "text/x-python",
      "name": "python",
      "nbconvert_exporter": "python",
      "pygments_lexer": "ipython3",
      "version": "3.7.0"
    },
    "colab": {
      "name": "533R Turtorial",
      "provenance": [],
      "collapsed_sections": [],
      "include_colab_link": true
    },
    "accelerator": "GPU"
  },
  "cells": [
    {
      "cell_type": "markdown",
      "metadata": {
        "id": "view-in-github",
        "colab_type": "text"
      },
      "source": [
        "<a href=\"https://colab.research.google.com/github/xinmiaow/CPSC533R/blob/master/PyTorch_Turtorial.ipynb\" target=\"_parent\"><img src=\"https://colab.research.google.com/assets/colab-badge.svg\" alt=\"Open In Colab\"/></a>"
      ]
    },
    {
      "cell_type": "markdown",
      "metadata": {
        "id": "Po9bojmORoTf",
        "colab_type": "text"
      },
      "source": [
        "# CPSC 533R Visual AI - Turtorial\n"
      ]
    },
    {
      "cell_type": "code",
      "metadata": {
        "id": "I983PjArRoTj",
        "colab_type": "code",
        "colab": {
          "base_uri": "https://localhost:8080/",
          "height": 35
        },
        "outputId": "36a108f7-12d5-43b7-faac-79ccb6d67db1"
      },
      "source": [
        "# import standard PyTorch modules\n",
        "import torch\n",
        "import torch.nn as nn\n",
        "import torch.optim as optim\n",
        "\n",
        "# import torchvision module to handle image manipulation\n",
        "import torchvision\n",
        "import torchvision.transforms as transforms\n",
        "\n",
        "# define a target device\n",
        "device = torch.device(\"cuda:0\" if torch.cuda.is_available() else \"cpu\")\n",
        "# device='cpu'\n",
        "print(device)"
      ],
      "execution_count": null,
      "outputs": [
        {
          "output_type": "stream",
          "text": [
            "cuda:0\n"
          ],
          "name": "stdout"
        }
      ]
    },
    {
      "cell_type": "code",
      "metadata": {
        "id": "2JG7WG-MKDY5",
        "colab_type": "code",
        "colab": {}
      },
      "source": [
        "def gray_to_color(x):\n",
        "    return x.repeat(3, 1, 1)"
      ],
      "execution_count": null,
      "outputs": []
    },
    {
      "cell_type": "markdown",
      "metadata": {
        "id": "rMPtB-EU4aNZ",
        "colab_type": "text"
      },
      "source": [
        "## Inheritance and overriding\n",
        "### Customize a dataset\n",
        "- Inherit a given dataset and override the `__getitem__()` method\n",
        "- An example with [MNIST](https://pytorch.org/docs/1.1.0/_modules/torchvision/datasets/mnist.html)\n",
        "\n"
      ]
    },
    {
      "cell_type": "code",
      "metadata": {
        "id": "bs3HNaKvCB1Q",
        "colab_type": "code",
        "colab": {}
      },
      "source": [
        "# define a wrapper of a given dataset\n",
        "class myMNIST_wrapper(torch.utils.data.Dataset):\n",
        "  def __init__(self, noise_range=0.3, *args, **kwargs):\n",
        "    self.ds = torchvision.datasets.MNIST(*args, **kwargs)\n",
        "    self.noise_range = noise_range\n",
        "    print('The dataset is initialized.')\n",
        "  def __getitem__(self,index):\n",
        "    img, label = self.ds[index]\n",
        "\n",
        "    # add some noise to the image \n",
        "    noise =  torch.randn_like(img)*self.noise_range\n",
        "    noisy_img = noise + img\n",
        "    noisy_img[noisy_img>1]=1\n",
        "    noisy_img[noisy_img<0]=0\n",
        "\n",
        "    # return both original image and the noisy one\n",
        "    return img, noisy_img, label, label%2, index\n",
        "\n",
        "  def __len__(self):\n",
        "    return len(self.ds)\n",
        "\n",
        "# OR just inherit the given dataset directly\n",
        "class myMNIST(torchvision.datasets.MNIST):\n",
        "  # override the constructor\n",
        "  def __init__(self, noise_range=0.3, *args, **kwargs):\n",
        "    # initialize with the `__init__()` from the father class\n",
        "    super().__init__(*args, **kwargs)\n",
        "    self.noise_range = noise_range\n",
        "    print('The dataset is initialized.')\n",
        "  def __getitem__(self, index):\n",
        "\n",
        "    # get the item with the `__getitem__` of father class\n",
        "    img, label = super().__getitem__(index)\n",
        "\n",
        "    # add some noise to the image \n",
        "    noise =  torch.randn_like(img)*self.noise_range\n",
        "    noisy_img = noise+img\n",
        "    noisy_img[noisy_img>1]=1\n",
        "    noisy_img[noisy_img<0]=0\n",
        "\n",
        "    # return both original image and the noisy one\n",
        "    return img, noisy_img, label, label%2, index\n",
        "  # don't need to override __len__ if the dataset still has the same size \n",
        "\n"
      ],
      "execution_count": null,
      "outputs": []
    },
    {
      "cell_type": "code",
      "metadata": {
        "id": "asZx8Ka6i0pO",
        "colab_type": "code",
        "colab": {
          "base_uri": "https://localhost:8080/",
          "height": 35
        },
        "outputId": "7bdd7463-51eb-4a30-dc16-e9d8900e1e26"
      },
      "source": [
        "# train_set = myMNIST_wrapper(\n",
        "train_set = myMNIST(\n",
        "    root = './DatasetMNIST',\n",
        "    train = True,\n",
        "    download = True,\n",
        "    transform = transforms.Compose([\n",
        "        transforms.ToTensor(),\n",
        "        # gray_to_color,\n",
        "      ])\n",
        "    )\n"
      ],
      "execution_count": null,
      "outputs": [
        {
          "output_type": "stream",
          "text": [
            "The dataset is initialized.\n"
          ],
          "name": "stdout"
        }
      ]
    },
    {
      "cell_type": "code",
      "metadata": {
        "id": "BMQLAX751Lyo",
        "colab_type": "code",
        "colab": {
          "base_uri": "https://localhost:8080/",
          "height": 326
        },
        "outputId": "25a36b6e-1ace-4d94-bd20-220eafb86aa1"
      },
      "source": [
        "import matplotlib.pyplot as plt\n",
        "\n",
        "idx  = 10\n",
        "sample  = train_set[idx]\n",
        "for i,v in enumerate(sample):\n",
        "  if isinstance(v,torch.Tensor):\n",
        "    print(i,v.shape)\n",
        "  else:\n",
        "    print(i,v)\n",
        "\n",
        "plt.imshow(torch.cat([sample[0],\n",
        "          sample[1]],dim=2).numpy().squeeze())"
      ],
      "execution_count": null,
      "outputs": [
        {
          "output_type": "stream",
          "text": [
            "0 torch.Size([1, 28, 28])\n",
            "1 torch.Size([1, 28, 28])\n",
            "2 3\n",
            "3 1\n",
            "4 10\n"
          ],
          "name": "stdout"
        },
        {
          "output_type": "execute_result",
          "data": {
            "text/plain": [
              "<matplotlib.image.AxesImage at 0x7fb6d2d57e10>"
            ]
          },
          "metadata": {
            "tags": []
          },
          "execution_count": 13
        },
        {
          "output_type": "display_data",
          "data": {
            "image/png": "[encoded data removed]",
            "text/plain": [
              "<Figure size 432x288 with 1 Axes>"
            ]
          },
          "metadata": {
            "tags": [],
            "needs_background": "light"
          }
        }
      ]
    },
    {
      "cell_type": "markdown",
      "metadata": {
        "id": "mU6m_oN94sw4",
        "colab_type": "text"
      },
      "source": [
        "### Dataloader parameters\n",
        "- `batch_size`\n",
        "- `pin_memory`\n",
        "- `shuffle`\n",
        "- `drop_last`\n",
        "\n",
        "moving data from cpu to gpu "
      ]
    },
    {
      "cell_type": "code",
      "metadata": {
        "id": "8oK2kl5bR5R2",
        "colab_type": "code",
        "colab": {
          "base_uri": "https://localhost:8080/",
          "height": 54
        },
        "outputId": "8d22a076-d180-4267-b9a9-1bb40dfccf61"
      },
      "source": [
        "# helper function for moving batch to tareget device\n",
        "def batch_to_device(batch,device):\n",
        "  for i,v in enumerate(batch):\n",
        "    # print(i,v)\n",
        "    batch[i] = v.to(device)\n",
        "  return batch \n",
        "\n",
        "\n",
        "\n",
        "# define the dataloader\n",
        "train_loader = torch.utils.data.DataLoader(train_set, \n",
        "                      shuffle=False, \n",
        "                      batch_size = 7, \n",
        "                      pin_memory=False,\n",
        "                      drop_last=False)\n",
        "\n",
        "print(len(train_set)/train_loader.batch_size)\n",
        "print(len(train_loader))\n"
      ],
      "execution_count": null,
      "outputs": [
        {
          "output_type": "stream",
          "text": [
            "8571.42857142857\n",
            "8572\n"
          ],
          "name": "stdout"
        }
      ]
    },
    {
      "cell_type": "code",
      "metadata": {
        "id": "d7ekWFAlI9A0",
        "colab_type": "code",
        "colab": {
          "base_uri": "https://localhost:8080/",
          "height": 92
        },
        "outputId": "5864ccc0-bb81-45f6-8fa8-b1f0e66e35a1"
      },
      "source": [
        "# get a batch\n",
        "iterator = iter(train_loader)\n",
        "batch = next(iterator)\n",
        "\n",
        "# print some information of the batch\n",
        "print([(batch[i].shape, batch[i].device) for i,_ in enumerate(batch)])\n",
        "\n",
        "# move the tuple to target device \n",
        "batch_to_device(batch, device)\n",
        "print([(batch[i].shape, batch[i].device) for i,_ in enumerate(batch)])\n",
        "print(batch[-1])"
      ],
      "execution_count": null,
      "outputs": [
        {
          "output_type": "stream",
          "text": [
            "[(torch.Size([7, 1, 28, 28]), device(type='cpu')), (torch.Size([7, 1, 28, 28]), device(type='cpu')), (torch.Size([7]), device(type='cpu')), (torch.Size([7]), device(type='cpu')), (torch.Size([7]), device(type='cpu'))]\n",
            "[(torch.Size([7, 1, 28, 28]), device(type='cuda', index=0)), (torch.Size([7, 1, 28, 28]), device(type='cuda', index=0)), (torch.Size([7]), device(type='cuda', index=0)), (torch.Size([7]), device(type='cuda', index=0)), (torch.Size([7]), device(type='cuda', index=0))]\n",
            "tensor([0, 1, 2, 3, 4, 5, 6], device='cuda:0')\n"
          ],
          "name": "stdout"
        }
      ]
    },
    {
      "cell_type": "code",
      "metadata": {
        "id": "IWQze8juTDZe",
        "colab_type": "code",
        "colab": {
          "base_uri": "https://localhost:8080/",
          "height": 234
        },
        "outputId": "8a3de47e-324c-42e7-c292-79bb7e7031aa"
      },
      "source": [
        "sample = batch[1]\n",
        "plt.imshow(torch.cat([sample[0],\n",
        "          sample[1]],dim=2).cpu().numpy().squeeze())"
      ],
      "execution_count": null,
      "outputs": [
        {
          "output_type": "execute_result",
          "data": {
            "text/plain": [
              "<matplotlib.image.AxesImage at 0x7fb680cdeac8>"
            ]
          },
          "metadata": {
            "tags": []
          },
          "execution_count": 20
        },
        {
          "output_type": "display_data",
          "data": {
            "image/png": "[encoded data removed]",
            "text/plain": [
              "<Figure size 432x288 with 1 Axes>"
            ]
          },
          "metadata": {
            "tags": [],
            "needs_background": "light"
          }
        }
      ]
    },
    {
      "cell_type": "markdown",
      "metadata": {
        "id": "HKqJylSQ4nPY",
        "colab_type": "text"
      },
      "source": [
        "### Customize networks\n",
        "- Define a model from scratch \n",
        "- Inherit a given class and override the `forward()` method"
      ]
    },
    {
      "cell_type": "code",
      "metadata": {
        "id": "R1njlNR8zhdx",
        "colab_type": "code",
        "colab": {}
      },
      "source": [
        "# define a model from scratch:\n",
        "class myNN(nn.Module):\n",
        "  def __init__(self, in_features=28*28, latent_dim= 128, out_dim=2, activation_layer=nn.ReLU()):\n",
        "    # define a simple structure\n",
        "    super().__init__()\n",
        "    \n",
        "    self.in_features = in_features\n",
        "    self.out_dim = out_dim\n",
        "    self.latent_dim = latent_dim\n",
        "    self.activation_layer = activation_layer\n",
        "\n",
        "    self.fc = nn.Sequential(\n",
        "            nn.Linear(in_features=self.in_features, out_features=self.latent_dim*4),\n",
        "            self.activation_layer,\n",
        "            nn.Linear(in_features=self.latent_dim*4, out_features=self.latent_dim*2),\n",
        "            self.activation_layer,\n",
        "            nn.Linear(in_features=self.latent_dim*2, out_features=self.latent_dim),\n",
        "            self.activation_layer,\n",
        "            nn.Linear(in_features=self.latent_dim, out_features=self.out_dim),\n",
        "        )\n",
        "  def forward(self, batch):\n",
        "    # print(batch.shape)\n",
        "    x = batch.flatten(start_dim=1,end_dim=-1)\n",
        "    # print(x.shape)\n",
        "    x = self.fc(x)\n",
        "    # print(x.shape)\n",
        "\n",
        "    return x\n",
        "\n",
        "# define a wrapper for myNN which takes a tuple batch\n",
        "class myNN_tuple(myNN):\n",
        "  def __init__(self, *args, **kwargs):\n",
        "    super().__init__(*args, **kwargs)\n",
        "\n",
        "    # add a layer to the top\n",
        "    fc_layers = list(self.fc)\n",
        "    fc_layers.insert(1,nn.Dropout(p=0.5))\n",
        "    self.fc = nn.Sequential(*fc_layers)\n",
        "\n",
        "  def forward(self, batch):\n",
        "    y = super().forward(batch[0])\n",
        "    y_noisy = super().forward(batch[1])\n",
        "    return {'pred':y, 'pred_noisy':y_noisy}"
      ],
      "execution_count": null,
      "outputs": []
    },
    {
      "cell_type": "code",
      "metadata": {
        "id": "W-lAXiC436Ry",
        "colab_type": "code",
        "colab": {
          "base_uri": "https://localhost:8080/",
          "height": 348
        },
        "outputId": "e77cceaf-6392-4933-ce0f-f7b7c560d072"
      },
      "source": [
        "model_1 = myNN()\n",
        "print(model_1)\n",
        "model_1.eval()\n",
        "input = torch.randn(5,1,28,28)\n",
        "print(input.shape)\n",
        "with torch.no_grad(): \n",
        "  result =model_1(input)\n",
        "print(result)\n",
        "# model_1(batch)"
      ],
      "execution_count": null,
      "outputs": [
        {
          "output_type": "stream",
          "text": [
            "myNN(\n",
            "  (activation_layer): ReLU()\n",
            "  (fc): Sequential(\n",
            "    (0): Linear(in_features=784, out_features=512, bias=True)\n",
            "    (1): ReLU()\n",
            "    (2): Linear(in_features=512, out_features=256, bias=True)\n",
            "    (3): ReLU()\n",
            "    (4): Linear(in_features=256, out_features=128, bias=True)\n",
            "    (5): ReLU()\n",
            "    (6): Linear(in_features=128, out_features=2, bias=True)\n",
            "  )\n",
            ")\n",
            "torch.Size([5, 1, 28, 28])\n",
            "tensor([[0.0588, 0.1035],\n",
            "        [0.0050, 0.0865],\n",
            "        [0.0132, 0.1018],\n",
            "        [0.0720, 0.1262],\n",
            "        [0.0495, 0.1028]])\n"
          ],
          "name": "stdout"
        }
      ]
    },
    {
      "cell_type": "code",
      "metadata": {
        "id": "Wl7v4vi4H037",
        "colab_type": "code",
        "colab": {
          "base_uri": "https://localhost:8080/",
          "height": 495
        },
        "outputId": "bb20289e-a607-43eb-9ba7-691a9ed06a46"
      },
      "source": [
        "model_2 = myNN_tuple(activation_layer=nn.Tanh()).to(device)\n",
        "print(model_2)\n",
        "# model_2.eval()\n",
        "model_2.train()\n",
        "result =model_2(batch)\n",
        "print(result)"
      ],
      "execution_count": null,
      "outputs": [
        {
          "output_type": "stream",
          "text": [
            "myNN_tuple(\n",
            "  (activation_layer): Tanh()\n",
            "  (fc): Sequential(\n",
            "    (0): Linear(in_features=784, out_features=512, bias=True)\n",
            "    (1): Dropout(p=0.5, inplace=False)\n",
            "    (2): Tanh()\n",
            "    (3): Linear(in_features=512, out_features=256, bias=True)\n",
            "    (4): Tanh()\n",
            "    (5): Linear(in_features=256, out_features=128, bias=True)\n",
            "    (6): Tanh()\n",
            "    (7): Linear(in_features=128, out_features=2, bias=True)\n",
            "  )\n",
            ")\n",
            "{'pred': tensor([[ 0.0621, -0.0518],\n",
            "        [ 0.0713,  0.0096],\n",
            "        [ 0.1006,  0.0069],\n",
            "        [ 0.0552,  0.0388],\n",
            "        [ 0.0489, -0.0205],\n",
            "        [ 0.0636, -0.0229],\n",
            "        [ 0.0623, -0.0349]], device='cuda:0', grad_fn=<AddmmBackward>), 'pred_noisy': tensor([[ 0.0615, -0.0125],\n",
            "        [ 0.0080, -0.0394],\n",
            "        [ 0.0739, -0.0806],\n",
            "        [ 0.0741,  0.0432],\n",
            "        [-0.0063, -0.0192],\n",
            "        [ 0.0217,  0.0415],\n",
            "        [ 0.0131,  0.0318]], device='cuda:0', grad_fn=<AddmmBackward>)}\n"
          ],
          "name": "stdout"
        }
      ]
    },
    {
      "cell_type": "markdown",
      "metadata": {
        "id": "kMbjWODZ7PZL",
        "colab_type": "text"
      },
      "source": [
        "### `model.eval()` and `model.train()`\n",
        "- important if you have batchnorm or dropout layers"
      ]
    },
    {
      "cell_type": "markdown",
      "metadata": {
        "id": "I31GuRq7n2AS",
        "colab_type": "text"
      },
      "source": [
        "what will happen define optimizer inside the loop\n",
        "- momentum will lose if you are using optimizers with momentum, e.g., Adam"
      ]
    },
    {
      "cell_type": "markdown",
      "metadata": {
        "id": "KBqPgJJsoFWv",
        "colab_type": "text"
      },
      "source": [
        "tricks that save GPU memory\n",
        "- `torch.no_grad()`\n",
        "  - gradients cost memory, try `with torch.no_grad():` when you don't need gradients \n",
        "- `loss.item()`\n",
        "  - when track the loss curve, save the number of loss instead of the loss object\n",
        "- `torch.cuda.empty_cache()`\n",
        "  - clear the cache "
      ]
    },
    {
      "cell_type": "markdown",
      "metadata": {
        "id": "XfupJ7I8c3zv",
        "colab_type": "text"
      },
      "source": [
        "a sample pipeline for trainning a model\n",
        "\n",
        "```\n",
        "for someHyperParam in HyperParamList:\n",
        "  \n",
        "  # clear some meomory cache\n",
        "  model=None\n",
        "  torch.cuda.empty_cache()\n",
        "\n",
        "  model = someModelClass(someHyperParam)\n",
        "  optimizer = optim.SGD(model.parameters(), otherHyperParam)\n",
        "  losses_train = []\n",
        "\n",
        "  for e in epochs:\n",
        "    for i,batch in enumerare(loader):\n",
        "      \n",
        "      model.train()\n",
        "      \n",
        "      pred = model(batch)\n",
        "      loss = loss_fucntion(pred,batch)\n",
        "\n",
        "      optimizer.zero_grad()\n",
        "      loss.backward()\n",
        "      optimizer.step()\n",
        "\n",
        "      # track the training loss\n",
        "      losses_train.append(loss.item())\n",
        "\n",
        "\n",
        "      # evaluate the model on validation set every plot_every iterations\n",
        "      if i % plot_every == 0:\n",
        "        model.eval()\n",
        "        with torch.no_grad():\n",
        "          # evaluation part\n",
        "          # plot the result\n",
        "  \n",
        "  # save trained parameters\n",
        "  torch.save(model.state_dict(),model_path)\n",
        "\n",
        "```\n",
        "\n"
      ]
    },
    {
      "cell_type": "markdown",
      "metadata": {
        "id": "U9MskQUP47LS",
        "colab_type": "text"
      },
      "source": [
        "### Tensor Broadcasting\n",
        "- https://pytorch.org/docs/stable/notes/broadcasting.html"
      ]
    },
    {
      "cell_type": "code",
      "metadata": {
        "id": "ZCQ_TrPxn_hv",
        "colab_type": "code",
        "colab": {
          "base_uri": "https://localhost:8080/",
          "height": 384
        },
        "outputId": "ce95dbda-576a-4bb4-d37f-913cdfdbc2a3"
      },
      "source": [
        "a = torch.arange(10).unsqueeze(1).float()\n",
        "a.requires_grad=True\n",
        "b = torch.arange(10).unsqueeze(0).float()\n",
        "b.requires_grad=True\n",
        "print(a,b)\n",
        "d = torch.abs(a-b)\n",
        "print(d)\n",
        "# print(d.grad_fn)\n",
        "# d.mean().backward()\n",
        "# a.grad"
      ],
      "execution_count": null,
      "outputs": [
        {
          "output_type": "stream",
          "text": [
            "tensor([[0.],\n",
            "        [1.],\n",
            "        [2.],\n",
            "        [3.],\n",
            "        [4.],\n",
            "        [5.],\n",
            "        [6.],\n",
            "        [7.],\n",
            "        [8.],\n",
            "        [9.]], requires_grad=True) tensor([[0., 1., 2., 3., 4., 5., 6., 7., 8., 9.]], requires_grad=True)\n",
            "tensor([[0., 1., 2., 3., 4., 5., 6., 7., 8., 9.],\n",
            "        [1., 0., 1., 2., 3., 4., 5., 6., 7., 8.],\n",
            "        [2., 1., 0., 1., 2., 3., 4., 5., 6., 7.],\n",
            "        [3., 2., 1., 0., 1., 2., 3., 4., 5., 6.],\n",
            "        [4., 3., 2., 1., 0., 1., 2., 3., 4., 5.],\n",
            "        [5., 4., 3., 2., 1., 0., 1., 2., 3., 4.],\n",
            "        [6., 5., 4., 3., 2., 1., 0., 1., 2., 3.],\n",
            "        [7., 6., 5., 4., 3., 2., 1., 0., 1., 2.],\n",
            "        [8., 7., 6., 5., 4., 3., 2., 1., 0., 1.],\n",
            "        [9., 8., 7., 6., 5., 4., 3., 2., 1., 0.]], grad_fn=<AbsBackward>)\n"
          ],
          "name": "stdout"
        }
      ]
    },
    {
      "cell_type": "code",
      "metadata": {
        "id": "uE2iNcO9aUdf",
        "colab_type": "code",
        "colab": {
          "base_uri": "https://localhost:8080/",
          "height": 219
        },
        "outputId": "ad58eed7-4ece-4243-b853-f8992d508bc2"
      },
      "source": [
        "# Simple example: calculate pairwise distance between points\n",
        "pos = torch.randn((5,2),requires_grad=True)\n",
        "print(pos)\n",
        "a = pos.unsqueeze(1)\n",
        "b = pos.unsqueeze(0)\n",
        "print(a.shape,b.shape)\n",
        "\n",
        "# dist_mat = torch.sqrt(((a-b)**2).sum(-1))\n",
        "dist_mat = ((a-b)**2).sum(-1)\n",
        "dist_mat = torch.abs((a-b).sum(-1))\n",
        "print(dist_mat)"
      ],
      "execution_count": null,
      "outputs": [
        {
          "output_type": "stream",
          "text": [
            "tensor([[ 0.9896, -0.3892],\n",
            "        [-1.0116, -0.4939],\n",
            "        [-2.2526,  0.9108],\n",
            "        [ 0.2841,  0.3821],\n",
            "        [-2.0991,  0.7806]], requires_grad=True)\n",
            "torch.Size([5, 1, 2]) torch.Size([1, 5, 2])\n",
            "tensor([[0.0000, 2.1059, 1.9422, 0.0658, 1.9189],\n",
            "        [2.1059, 0.0000, 0.1637, 2.1716, 0.1870],\n",
            "        [1.9422, 0.1637, 0.0000, 2.0080, 0.0233],\n",
            "        [0.0658, 2.1716, 2.0080, 0.0000, 1.9847],\n",
            "        [1.9189, 0.1870, 0.0233, 1.9847, 0.0000]], grad_fn=<AbsBackward>)\n"
          ],
          "name": "stdout"
        }
      ]
    },
    {
      "cell_type": "code",
      "metadata": {
        "id": "S8OSTinnaxPX",
        "colab_type": "code",
        "colab": {
          "base_uri": "https://localhost:8080/",
          "height": 109
        },
        "outputId": "6d5094a5-8a7b-4d55-8ada-a83b8a673599"
      },
      "source": [
        "# # optimizer = optim.SGD([pos],lr=0.1)\n",
        "# loss = dist_mat.mean()\n",
        "# # loss = pos.mean()\n",
        "\n",
        "# # optimizer.zero_grad()\n",
        "# loss.backward()\n",
        "# # optimizer.step()\n",
        "\n",
        "# print(loss,pos.grad)"
      ],
      "execution_count": null,
      "outputs": [
        {
          "output_type": "stream",
          "text": [
            "tensor(1.0057, grad_fn=<MeanBackward0>) tensor([[ 0.1600,  0.1600],\n",
            "        [-0.3200, -0.3200],\n",
            "        [-0.1600, -0.1600],\n",
            "        [ 0.3200,  0.3200],\n",
            "        [ 0.0000,  0.0000]])\n"
          ],
          "name": "stdout"
        }
      ]
    },
    {
      "cell_type": "code",
      "metadata": {
        "id": "FpcQWgYhUMrB",
        "colab_type": "code",
        "colab": {}
      },
      "source": [
        ""
      ],
      "execution_count": null,
      "outputs": []
    }
  ]
}