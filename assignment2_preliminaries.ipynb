{
  "nbformat": 4,
  "nbformat_minor": 0,
  "metadata": {
    "kernelspec": {
      "display_name": "Python 3",
      "language": "python",
      "name": "python3"
    },
    "language_info": {
      "codemirror_mode": {
        "name": "ipython",
        "version": 3
      },
      "file_extension": ".py",
      "mimetype": "text/x-python",
      "name": "python",
      "nbconvert_exporter": "python",
      "pygments_lexer": "ipython3",
      "version": "3.7.3"
    },
    "colab": {
      "name": "assignment2_preliminaries.ipynb",
      "provenance": [],
      "collapsed_sections": [],
      "include_colab_link": true
    }
  },
  "cells": [
    {
      "cell_type": "markdown",
      "metadata": {
        "id": "view-in-github",
        "colab_type": "text"
      },
      "source": [
        "<a href=\"https://colab.research.google.com/github/xinmiaow/CPSC533R/blob/master/assignment2_preliminaries.ipynb\" target=\"_parent\"><img src=\"https://colab.research.google.com/assets/colab-badge.svg\" alt=\"Open In Colab\"/></a>"
      ]
    },
    {
      "cell_type": "markdown",
      "metadata": {
        "id": "CU5XO-kgqe4f"
      },
      "source": [
        "# Assignment 2, Preliminaries "
      ]
    },
    {
      "cell_type": "markdown",
      "metadata": {
        "id": "KUR8_TpNqe4i"
      },
      "source": [
        "Turn the following expressions into tensor operations, replace any python for loop. Print the output and compare it to the sequential computation. \n",
        "\n",
        "**Hint:** Make yourself familiar with the following operations: ```torch.abs, torch.sum, torch.mean, torch.exp, torch.sqrt, torch.linspace, torch.meshgrid``` and ```tensor.permute, tensor.repeat, tensor.unsqueeze```, where tensor is a ```torch.tensor```."
      ]
    },
    {
      "cell_type": "code",
      "metadata": {
        "id": "M0dS4MrHqe4i"
      },
      "source": [
        "# imports (nothing to do here)\n",
        "import torch\n",
        "import math\n",
        "import matplotlib.pyplot as plt\n",
        "prediction = torch.tensor([0.2,0.5,-1,0.9,5],dtype=torch.float)\n",
        "label      = torch.tensor([0.19,0.4,-1.1,0.9,4.99],dtype=torch.float)"
      ],
      "execution_count": 2,
      "outputs": []
    },
    {
      "cell_type": "markdown",
      "metadata": {
        "id": "Dm5oUVzxqe4l"
      },
      "source": [
        "### Mean absolute error (MAE) computation"
      ]
    },
    {
      "cell_type": "code",
      "metadata": {
        "id": "O2q2vKrYqe4m",
        "outputId": "e3193d37-0040-4805-e1bb-65a24f6fba1c",
        "colab": {
          "base_uri": "https://localhost:8080/",
          "height": 34
        }
      },
      "source": [
        "MAE = 0\n",
        "for i in range(len(prediction)):\n",
        "    MAE += torch.abs(prediction[i]-label[i])\n",
        "MAE /= len(prediction)\n",
        "print(MAE)"
      ],
      "execution_count": 2,
      "outputs": [
        {
          "output_type": "stream",
          "text": [
            "tensor(0.0440)\n"
          ],
          "name": "stdout"
        }
      ]
    },
    {
      "cell_type": "code",
      "metadata": {
        "id": "_29P4fkqqe4q",
        "outputId": "05b430b7-6715-4a04-ab3b-47c21f949b4d",
        "colab": {
          "base_uri": "https://localhost:8080/",
          "height": 34
        }
      },
      "source": [
        "# tensor SOLUTION\n",
        "torch.mean(torch.abs(prediction - label))"
      ],
      "execution_count": 3,
      "outputs": [
        {
          "output_type": "execute_result",
          "data": {
            "text/plain": [
              "tensor(0.0440)"
            ]
          },
          "metadata": {
            "tags": []
          },
          "execution_count": 3
        }
      ]
    },
    {
      "cell_type": "markdown",
      "metadata": {
        "id": "Iwc872hxqe4t"
      },
      "source": [
        "### Mean squared error "
      ]
    },
    {
      "cell_type": "code",
      "metadata": {
        "id": "x0_Lgmwsqe4t",
        "outputId": "5169073f-a84f-40a9-d2f7-78ebdcdd934d",
        "colab": {
          "base_uri": "https://localhost:8080/",
          "height": 34
        }
      },
      "source": [
        "MSE = 0\n",
        "for i in range(len(prediction)):\n",
        "    MSE += (prediction[i]-label[i])**2\n",
        "MSE /= len(prediction)\n",
        "print(MSE)"
      ],
      "execution_count": 4,
      "outputs": [
        {
          "output_type": "stream",
          "text": [
            "tensor(0.0040)\n"
          ],
          "name": "stdout"
        }
      ]
    },
    {
      "cell_type": "code",
      "metadata": {
        "id": "bEpX1D4mqe4w",
        "outputId": "145d1993-d93b-4201-a644-72fd62b8fb59",
        "colab": {
          "base_uri": "https://localhost:8080/",
          "height": 34
        }
      },
      "source": [
        "# tensor SOLUTION\n",
        "torch.mean((prediction-label)**2)"
      ],
      "execution_count": 5,
      "outputs": [
        {
          "output_type": "execute_result",
          "data": {
            "text/plain": [
              "tensor(0.0040)"
            ]
          },
          "metadata": {
            "tags": []
          },
          "execution_count": 5
        }
      ]
    },
    {
      "cell_type": "markdown",
      "metadata": {
        "id": "47jifwq-qe4y"
      },
      "source": [
        "### 1D polynomial evaluation"
      ]
    },
    {
      "cell_type": "code",
      "metadata": {
        "id": "rU31kh7Uqe40",
        "outputId": "ff734c6f-d1d2-4c56-d773-b9e82e00d55f",
        "colab": {
          "base_uri": "https://localhost:8080/",
          "height": 34
        }
      },
      "source": [
        "a = 0.1\n",
        "b = 2\n",
        "c = 0.5\n",
        "f_of_x = []\n",
        "x_list = torch.linspace(0,1,8)\n",
        "for x in x_list:\n",
        "    f_of_x.append(a + b*x + c*(x**2))\n",
        "f_of_x = torch.FloatTensor(f_of_x)\n",
        "print(f_of_x)"
      ],
      "execution_count": 6,
      "outputs": [
        {
          "output_type": "stream",
          "text": [
            "tensor([0.1000, 0.3959, 0.7122, 1.0490, 1.4061, 1.7837, 2.1816, 2.6000])\n"
          ],
          "name": "stdout"
        }
      ]
    },
    {
      "cell_type": "code",
      "metadata": {
        "id": "UPvW7gU9qe43",
        "outputId": "9944d899-7954-47a4-a365-14c8e3bcae10",
        "colab": {
          "base_uri": "https://localhost:8080/",
          "height": 34
        }
      },
      "source": [
        "# tensor SOLUTION\n",
        "a + b*x_list + c*x_list**2"
      ],
      "execution_count": 7,
      "outputs": [
        {
          "output_type": "execute_result",
          "data": {
            "text/plain": [
              "tensor([0.1000, 0.3959, 0.7122, 1.0490, 1.4061, 1.7837, 2.1816, 2.6000])"
            ]
          },
          "metadata": {
            "tags": []
          },
          "execution_count": 7
        }
      ]
    },
    {
      "cell_type": "markdown",
      "metadata": {
        "id": "Hmb3fCt3qe45"
      },
      "source": [
        "### 2D Gaussian function"
      ]
    },
    {
      "cell_type": "code",
      "metadata": {
        "id": "fVsLed99qe46",
        "outputId": "ef73d864-b405-4c8e-b91b-30e2caa77090",
        "colab": {
          "base_uri": "https://localhost:8080/",
          "height": 292
        }
      },
      "source": [
        "mu_x = 0.1\n",
        "mu_y = 0.5\n",
        "sigma = 0.1\n",
        "x_list = torch.linspace(0,1,10)\n",
        "y_list = torch.linspace(0,1,8)\n",
        "f_of_x = torch.FloatTensor(8,10)\n",
        "for i,x in enumerate(x_list):\n",
        "    for j,y in enumerate(y_list):\n",
        "        d = (x-mu_x)**2 + (y-mu_y)**2\n",
        "        c = 1/math.sqrt(2*math.pi)\n",
        "        f_of_x[j,i] = c*torch.exp(-d/(2*sigma**2))\n",
        "plt.matshow(f_of_x)"
      ],
      "execution_count": 66,
      "outputs": [
        {
          "output_type": "execute_result",
          "data": {
            "text/plain": [
              "<matplotlib.image.AxesImage at 0x7ffa75376908>"
            ]
          },
          "metadata": {
            "tags": []
          },
          "execution_count": 66
        },
        {
          "output_type": "display_data",
          "data": {
            "image/png": "[encoded data removed]",
            "text/plain": [
              "<Figure size 360x288 with 1 Axes>"
            ]
          },
          "metadata": {
            "tags": [],
            "needs_background": "light"
          }
        }
      ]
    },
    {
      "cell_type": "code",
      "metadata": {
        "id": "zXqJdOQQqe48",
        "outputId": "41daa028-5cfb-4b2d-89cb-c46ff36d2eec",
        "colab": {
          "base_uri": "https://localhost:8080/",
          "height": 364
        }
      },
      "source": [
        "# tensor SOLUTION\n",
        "grid_x, grid_y = torch.meshgrid(x_list, y_list)\n",
        "grid_d = (grid_x - mu_x)**2 + (grid_y - mu_y)**2\n",
        "grid_f = torch.exp(-grid_d/(2*sigma**2))/math.sqrt(2*math.pi)\n",
        "print(grid_f.shape)\n",
        "plt.matshow(grid_f)"
      ],
      "execution_count": 67,
      "outputs": [
        {
          "output_type": "stream",
          "text": [
            "torch.Size([10, 8])\n"
          ],
          "name": "stdout"
        },
        {
          "output_type": "execute_result",
          "data": {
            "text/plain": [
              "<matplotlib.image.AxesImage at 0x7ffa75807208>"
            ]
          },
          "metadata": {
            "tags": []
          },
          "execution_count": 67
        },
        {
          "output_type": "display_data",
          "data": {
            "image/png": "[encoded data removed]",
            "text/plain": [
              "<Figure size 288x360 with 1 Axes>"
            ]
          },
          "metadata": {
            "tags": [],
            "needs_background": "light"
          }
        }
      ]
    },
    {
      "cell_type": "markdown",
      "metadata": {
        "id": "eXnVDVElqe4_"
      },
      "source": [
        "Finally, use GPU computation (requires to run on a cuda capable machine with cuda installed) to turn the same operation on the GPU. Simply update your solution in the cell above. Compare the CPU and GPU output, is it the same? Up to what precision?"
      ]
    },
    {
      "cell_type": "code",
      "metadata": {
        "id": "Xr9iJX8Uqe5A"
      },
      "source": [
        "# SOLUTION\n"
      ],
      "execution_count": null,
      "outputs": []
    }
  ]
}