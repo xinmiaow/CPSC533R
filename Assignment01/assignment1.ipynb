{
  "nbformat": 4,
  "nbformat_minor": 0,
  "metadata": {
    "kernelspec": {
      "display_name": "Python 3",
      "language": "python",
      "name": "python3"
    },
    "language_info": {
      "codemirror_mode": {
        "name": "ipython",
        "version": 3
      },
      "file_extension": ".py",
      "mimetype": "text/x-python",
      "name": "python",
      "nbconvert_exporter": "python",
      "pygments_lexer": "ipython3",
      "version": "3.7.3"
    },
    "colab": {
      "name": "assignment1.ipynb",
      "provenance": []
    }
  },
  "cells": [
    {
      "cell_type": "markdown",
      "metadata": {
        "id": "O0uwOWWlxVBR",
        "colab_type": "text"
      },
      "source": [
        "# CPSC 533R Visual AI - Assignment 1"
      ]
    },
    {
      "cell_type": "code",
      "metadata": {
        "id": "czAZFVPKxVBS",
        "colab_type": "code",
        "colab": {}
      },
      "source": [
        "# import standard PyTorch modules\n",
        "import torch\n",
        "import torch.nn as nn\n",
        "import torch.optim as optim\n",
        "\n",
        "# import torchvision module to handle image manipulation\n",
        "import torchvision\n",
        "import torchvision.transforms as transforms"
      ],
      "execution_count": 171,
      "outputs": []
    },
    {
      "cell_type": "code",
      "metadata": {
        "id": "jOk2DkNSFdIJ",
        "colab_type": "code",
        "colab": {
          "base_uri": "https://localhost:8080/",
          "height": 34
        },
        "outputId": "0be43f16-a8cc-45c3-b5b0-d07829ffca0d"
      },
      "source": [
        "# define a target device\n",
        "device = torch.device(\"cuda:0\" if torch.cuda.is_available() else \"cpu\")\n",
        "# device='cpu'\n",
        "print(device)"
      ],
      "execution_count": 172,
      "outputs": [
        {
          "output_type": "stream",
          "text": [
            "cpu\n"
          ],
          "name": "stdout"
        }
      ]
    },
    {
      "cell_type": "code",
      "metadata": {
        "id": "M8kNkfAFLU6Q",
        "colab_type": "code",
        "colab": {}
      },
      "source": [
        "# define a wrapper of a given dataset\n",
        "class myMNIST_wrapper(torch.utils.data.Dataset):\n",
        "  def __init__(self, *args, **kwargs):\n",
        "    self.ds = torchvision.datasets.MNIST(*args, **kwargs)\n",
        "    print('The dataset is initialized.')\n",
        "\n",
        "  def __getitem__(self,index):\n",
        "    img1, label1 = self.ds[index]\n",
        "    index2 = torch.randint(0, len(self.ds), [1], dtype=torch.int).item()\n",
        "    img2, label2 = self.ds[index2]\n",
        "    # return dict(img, self.ds[index])\n",
        "    if label1 == label2:\n",
        "      # matching_class_label = torch.ones(1, dtype=torch.bool)\n",
        "      matching_class_label = torch.ones(1)\n",
        "    else:\n",
        "      # matching_class_label = torch.zeros(1, dtype=torch.bool)\n",
        "      matching_class_label = torch.zeros(1)\n",
        "    return {'img1':img1, 'img2':img2, 'matching_pair':matching_class_label}\n",
        "\n",
        "  def __len__(self):\n",
        "    return len(self.ds)\n",
        "\n",
        "  # # Task IV: return two images and a binary variable\n",
        "  # def pairs(self, index1, index2):\n",
        "  #   img1, label1 = self.ds[index1]\n",
        "  #   img2, label2 = self.ds[index2]\n",
        "  #   if label1 == label2:\n",
        "  #     matching_class_label = 1\n",
        "  #   else:\n",
        "  #     matching_class_label = 0\n",
        "  #   return {'img1':img1, 'img2':img2, 'matching_pair':matching_class_label}"
      ],
      "execution_count": 173,
      "outputs": []
    },
    {
      "cell_type": "code",
      "metadata": {
        "id": "nLQErJkSxVBU",
        "colab_type": "code",
        "colab": {
          "base_uri": "https://localhost:8080/",
          "height": 34
        },
        "outputId": "8700fa4d-a1f4-4008-93b0-a799a6ac742f"
      },
      "source": [
        "# Use standard FashionMNIST dataset\n",
        "def gray_to_color(x):\n",
        "    return x.repeat(3, 1, 1)\n",
        "\n",
        "#train_set = torchvision.datasets.FashionMNIST(\n",
        "train_set = myMNIST_wrapper(\n",
        "    root = './DatasetFashionMNIST',\n",
        "    train = True,\n",
        "    download = True,\n",
        "    transform = transforms.Compose([\n",
        "        transforms.ToTensor(),\n",
        "        #gray_to_color,\n",
        "    ])\n",
        ")\n",
        "\n",
        "train_loader = torch.utils.data.DataLoader(train_set, shuffle=False, \n",
        "                      batch_size = 7, \n",
        "                      pin_memory=False,\n",
        "                      drop_last=False)"
      ],
      "execution_count": 174,
      "outputs": [
        {
          "output_type": "stream",
          "text": [
            "The dataset is initialized.\n"
          ],
          "name": "stdout"
        }
      ]
    },
    {
      "cell_type": "code",
      "metadata": {
        "id": "-y8nztyOMMmk",
        "colab_type": "code",
        "colab": {
          "base_uri": "https://localhost:8080/",
          "height": 284
        },
        "outputId": "25ed4200-a438-4c5f-cf15-d335406a88bc"
      },
      "source": [
        "import matplotlib.pyplot as plt\n",
        "\n",
        "idx  = 10\n",
        "sample  = train_set[idx]\n",
        "# for i,v in enumerate(sample):\n",
        "#   if isinstance(v,torch.Tensor):\n",
        "#     print(i,v.shape)\n",
        "#   else:\n",
        "#     print(i,v)\n",
        "\n",
        "print(\"The two images are:\", sample['matching_pair'])\n",
        "print(\"The shape of the first image is: \", sample['img1'].shape)\n",
        "print(\"The shape of the second image is: \", sample['img2'].shape)\n",
        "plt.imshow(torch.cat([sample['img1'][0],\n",
        "          sample['img2'][0]],dim=1).numpy().squeeze())"
      ],
      "execution_count": 175,
      "outputs": [
        {
          "output_type": "stream",
          "text": [
            "The two images are: tensor([1.])\n",
            "The shape of the first image is:  torch.Size([1, 28, 28])\n",
            "The shape of the second image is:  torch.Size([1, 28, 28])\n"
          ],
          "name": "stdout"
        },
        {
          "output_type": "execute_result",
          "data": {
            "text/plain": [
              "<matplotlib.image.AxesImage at 0x7f60b1029470>"
            ]
          },
          "metadata": {
            "tags": []
          },
          "execution_count": 175
        },
        {
          "output_type": "display_data",
          "data": {
            "image/png": "[encoded data removed]",
            "text/plain": [
              "<Figure size 432x288 with 1 Axes>"
            ]
          },
          "metadata": {
            "tags": [],
            "needs_background": "light"
          }
        }
      ]
    },
    {
      "cell_type": "code",
      "metadata": {
        "id": "fyTXrODqEl-U",
        "colab_type": "code",
        "colab": {
          "base_uri": "https://localhost:8080/",
          "height": 323
        },
        "outputId": "57ce1af0-a680-4548-d5fb-bed00054c889"
      },
      "source": [
        "# get a batch\n",
        "iterator = iter(train_loader)\n",
        "batch = next(iterator)\n",
        "\n",
        "print(torch.cat([batch['img1'], batch['img2']], dim=2).shape)\n",
        "print(batch['img1'].shape)\n",
        "print(batch['img2'].shape)\n",
        "print(batch['matching_pair'].shape)\n",
        "print(batch['matching_pair'])\n",
        "print(batch['matching_pair'].to(device))"
      ],
      "execution_count": 176,
      "outputs": [
        {
          "output_type": "stream",
          "text": [
            "torch.Size([7, 1, 56, 28])\n",
            "torch.Size([7, 1, 28, 28])\n",
            "torch.Size([7, 1, 28, 28])\n",
            "torch.Size([7, 1])\n",
            "tensor([[0.],\n",
            "        [0.],\n",
            "        [1.],\n",
            "        [0.],\n",
            "        [0.],\n",
            "        [0.],\n",
            "        [0.]])\n",
            "tensor([[0.],\n",
            "        [0.],\n",
            "        [1.],\n",
            "        [0.],\n",
            "        [0.],\n",
            "        [0.],\n",
            "        [0.]])\n"
          ],
          "name": "stdout"
        }
      ]
    },
    {
      "cell_type": "code",
      "metadata": {
        "id": "RDhrlWyREoZM",
        "colab_type": "code",
        "colab": {
          "base_uri": "https://localhost:8080/",
          "height": 233
        },
        "outputId": "62e5a0a2-804d-4879-cdaf-1b637cff5bc2"
      },
      "source": [
        "plt.imshow(torch.cat([batch['img1'][0],\n",
        "          batch['img2'][0]],dim=2).cpu().numpy().squeeze())"
      ],
      "execution_count": 177,
      "outputs": [
        {
          "output_type": "execute_result",
          "data": {
            "text/plain": [
              "<matplotlib.image.AxesImage at 0x7f60b10944a8>"
            ]
          },
          "metadata": {
            "tags": []
          },
          "execution_count": 177
        },
        {
          "output_type": "display_data",
          "data": {
            "image/png": "[encoded data removed]",
            "text/plain": [
              "<Figure size 432x288 with 1 Axes>"
            ]
          },
          "metadata": {
            "tags": [],
            "needs_background": "light"
          }
        }
      ]
    },
    {
      "cell_type": "code",
      "metadata": {
        "id": "mdnaN8zFU5BN",
        "colab_type": "code",
        "colab": {}
      },
      "source": [
        "# define a model from scratch:\n",
        "class myNN(nn.Module):\n",
        "  def __init__(self, in_features=28*56, latent_dim= 128, out_dim=2, activation_layer=nn.ReLU()):\n",
        "    # define a simple structure\n",
        "    super().__init__()\n",
        "    \n",
        "    self.in_features = in_features\n",
        "    self.out_dim = out_dim\n",
        "    self.latent_dim = latent_dim\n",
        "    self.activation_layer = activation_layer\n",
        "\n",
        "    self.fc = nn.Sequential(\n",
        "            nn.Linear(in_features=self.in_features, out_features=self.latent_dim*4),\n",
        "            self.activation_layer,\n",
        "            nn.Linear(in_features=self.latent_dim*4, out_features=self.latent_dim*2),\n",
        "            self.activation_layer,\n",
        "            nn.Linear(in_features=self.latent_dim*2, out_features=self.latent_dim),\n",
        "            self.activation_layer,\n",
        "            nn.Linear(in_features=self.latent_dim, out_features=self.out_dim),\n",
        "        )\n",
        "  def forward(self, batch):\n",
        "    # print(batch.shape)\n",
        "    x = batch.flatten(start_dim=1,end_dim=-1)\n",
        "    # print(x.shape)\n",
        "    x = self.fc(x)\n",
        "    # print(x.shape)\n",
        "\n",
        "    return x\n",
        "\n",
        "# define a wrapper for myNN which takes a dict batch\n",
        "class myNN_dict(myNN):\n",
        "  def __init__(self, *args, **kwargs):\n",
        "    super().__init__(*args, **kwargs)\n",
        "\n",
        "    # # add a layer to the top\n",
        "    # fc_layers = list(self.fc)\n",
        "    # fc_layers.insert(1,nn.Dropout(p=0.5))\n",
        "    # self.fc = nn.Sequential(*fc_layers)\n",
        "  \n",
        "  # Task II: select input from a dictionary\n",
        "  def forward(self, input_dict):\n",
        "    y = torch.cat([input_dict['img1'], input_dict['img2']], dim=2)\n",
        "    # print(\"attemp1: \", y.shape)\n",
        "    y = super().forward(y)\n",
        "    # print(\"attemp2: \", y.shape)\n",
        "    y = torch.sigmoid(y)\n",
        "    return {'prob':y}"
      ],
      "execution_count": 183,
      "outputs": []
    },
    {
      "cell_type": "code",
      "metadata": {
        "id": "UJWLZn90ggSg",
        "colab_type": "code",
        "colab": {}
      },
      "source": [
        "# def conv3x3(in_planes, out_planes, stride=1, groups=1, dilation=1):\n",
        "#     \"\"\"3x3 convolution with padding\"\"\"\n",
        "#     return nn.Conv2d(in_planes, out_planes, kernel_size=3, stride=stride,\n",
        "#                      padding=dilation, groups=groups, bias=False, dilation=dilation)\n",
        "\n",
        "# class BasicBlock(nn.Module):\n",
        "#     expansion = 1\n",
        "\n",
        "#     def __init__(self, inplanes, planes, stride=1, downsample=None, groups=1,\n",
        "#                  base_width=64, dilation=1, norm_layer=None):\n",
        "#         super(BasicBlock, self).__init__()\n",
        "#         if norm_layer is None:\n",
        "#             norm_layer = nn.BatchNorm2d\n",
        "#         if groups != 1 or base_width != 64:\n",
        "#             raise ValueError('BasicBlock only supports groups=1 and base_width=64')\n",
        "#         if dilation > 1:\n",
        "#             raise NotImplementedError(\"Dilation > 1 not supported in BasicBlock\")\n",
        "#         # Both self.conv1 and self.downsample layers downsample the input when stride != 1\n",
        "#         self.conv1 = conv3x3(inplanes, planes, stride)\n",
        "#         self.bn1 = norm_layer(planes)\n",
        "#         self.relu = nn.ReLU(inplace=True)\n",
        "#         self.conv2 = conv3x3(planes, planes)\n",
        "#         self.bn2 = norm_layer(planes)\n",
        "#         self.downsample = downsample\n",
        "#         self.stride = stride\n",
        "\n",
        "#     def forward(self, x):\n",
        "#         identity = x\n",
        "\n",
        "#         out = self.conv1(x)\n",
        "#         out = self.bn1(out)\n",
        "#         out = self.relu(out)\n",
        "\n",
        "#         out = self.conv2(out)\n",
        "#         out = self.bn2(out)\n",
        "\n",
        "#         if self.downsample is not None:\n",
        "#             identity = self.downsample(x)\n",
        "\n",
        "#         out += identity\n",
        "#         out = self.relu(out)\n",
        "\n",
        "#         return out\n",
        "\n",
        "# class myNN_dict(torchvision.models.ResNet):\n",
        "#   def __init__(self, *args, **kwargs):\n",
        "#     super().__init__(*args, **kwargs)\n",
        "\n",
        "#   # Task II: select input from a dictionary\n",
        "#   def forward(self, input_dict):\n",
        "#     y = torch.cat([sample['img1'], sample['img2']], dim=2)\n",
        "#     y = super().forward(y)\n",
        "#     y = torch.sigmoid(y)\n",
        "#     return {'prob':y}"
      ],
      "execution_count": null,
      "outputs": []
    },
    {
      "cell_type": "code",
      "metadata": {
        "id": "ZLGwlDOWEvxJ",
        "colab_type": "code",
        "colab": {
          "base_uri": "https://localhost:8080/",
          "height": 136
        },
        "outputId": "4c4292bd-a377-43fe-87be-7191466a60ba"
      },
      "source": [
        "# mylayers = [2,2,2,2]\n",
        "# model = myNN_dict(BasicBlock, mylayers)\n",
        "model = myNN_dict()\n",
        "# model_2.eval()\n",
        "model.train()\n",
        "result = model(batch)\n",
        "print(result)"
      ],
      "execution_count": 184,
      "outputs": [
        {
          "output_type": "stream",
          "text": [
            "{'prob': tensor([[0.5064, 0.4802],\n",
            "        [0.5039, 0.4815],\n",
            "        [0.5010, 0.4849],\n",
            "        [0.5045, 0.4831],\n",
            "        [0.5036, 0.4863],\n",
            "        [0.5076, 0.4827],\n",
            "        [0.5045, 0.4836]], grad_fn=<SigmoidBackward>)}\n"
          ],
          "name": "stdout"
        }
      ]
    },
    {
      "cell_type": "code",
      "metadata": {
        "id": "-nPedP8axVBX",
        "colab_type": "code",
        "colab": {}
      },
      "source": [
        "network = myNN_dict()"
      ],
      "execution_count": 185,
      "outputs": []
    },
    {
      "cell_type": "code",
      "metadata": {
        "id": "Jl1NFGekxVBZ",
        "colab_type": "code",
        "colab": {
          "base_uri": "https://localhost:8080/",
          "height": 357
        },
        "outputId": "844d8bb0-f92d-4efe-ee0e-739e0cafef94"
      },
      "source": [
        "losses = []\n",
        "criterion = torch.nn.CrossEntropyLoss()\n",
        "iterator = iter(train_loader)\n",
        "optimizer = optim.SGD(network.parameters(), lr=0.001)\n",
        "for i in range(200): #range(len(loader)):\n",
        "    batch = next(iterator)\n",
        "    # Task III: modify the loss function\n",
        "    preds = network(batch)\n",
        "    loss = criterion(preds['prob'], batch['matching_pair'][:,0].long())\n",
        "\n",
        "    optimizer.zero_grad()\n",
        "    loss.backward()\n",
        "    optimizer.step()\n",
        "    losses.append(loss.item())\n",
        "    if i%10==0:\n",
        "        print(i,losses[-1])"
      ],
      "execution_count": 186,
      "outputs": [
        {
          "output_type": "stream",
          "text": [
            "0 0.6986017227172852\n",
            "10 0.7028383612632751\n",
            "20 0.6986261010169983\n",
            "30 0.6943235993385315\n",
            "40 0.6990185976028442\n",
            "50 0.704890251159668\n",
            "60 0.7039996385574341\n",
            "70 0.7012587785720825\n",
            "80 0.7031732797622681\n",
            "90 0.7007231116294861\n",
            "100 0.7004412412643433\n",
            "110 0.702926754951477\n",
            "120 0.7015494704246521\n",
            "130 0.6992436647415161\n",
            "140 0.6991466283798218\n",
            "150 0.6988160014152527\n",
            "160 0.7003442645072937\n",
            "170 0.6988807320594788\n",
            "180 0.700887143611908\n",
            "190 0.6980608105659485\n"
          ],
          "name": "stdout"
        }
      ]
    },
    {
      "cell_type": "code",
      "metadata": {
        "id": "6NI_snVKxVBc",
        "colab_type": "code",
        "colab": {
          "base_uri": "https://localhost:8080/",
          "height": 282
        },
        "outputId": "c5943f94-e85a-45b2-c157-b47cbe3a1461"
      },
      "source": [
        "import matplotlib.pyplot as plt\n",
        "plt.plot(losses)"
      ],
      "execution_count": 187,
      "outputs": [
        {
          "output_type": "execute_result",
          "data": {
            "text/plain": [
              "[<matplotlib.lines.Line2D at 0x7f60b073b550>]"
            ]
          },
          "metadata": {
            "tags": []
          },
          "execution_count": 187
        },
        {
          "output_type": "display_data",
          "data": {
            "image/png": "[encoded data removed]",
            "text/plain": [
              "<Figure size 432x288 with 1 Axes>"
            ]
          },
          "metadata": {
            "tags": [],
            "needs_background": "light"
          }
        }
      ]
    }
  ]
}